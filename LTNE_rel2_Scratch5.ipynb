{
  "nbformat": 4,
  "nbformat_minor": 0,
  "metadata": {
    "colab": {
      "provenance": [],
      "gpuType": "T4",
      "authorship_tag": "ABX9TyNnMc8jmW+Utv0jO6vuNVvc",
      "include_colab_link": true
    },
    "kernelspec": {
      "name": "python3",
      "display_name": "Python 3"
    },
    "language_info": {
      "name": "python"
    },
    "accelerator": "GPU"
  },
  "cells": [
    {
      "cell_type": "markdown",
      "metadata": {
        "id": "view-in-github",
        "colab_type": "text"
      },
      "source": [
        "<a href=\"https://colab.research.google.com/github/Ovocode05/NeuroDeff/blob/main/LTNE_rel2_Scratch5.ipynb\" target=\"_parent\"><img src=\"https://colab.research.google.com/assets/colab-badge.svg\" alt=\"Open In Colab\"/></a>"
      ]
    },
    {
      "cell_type": "code",
      "execution_count": 1,
      "metadata": {
        "id": "Aq40TseyXWEf"
      },
      "outputs": [],
      "source": [
        "import torch\n",
        "import torch.nn as nn\n",
        "import numpy as np\n",
        "from itertools import product\n",
        "import matplotlib.pyplot as plt\n",
        "from matplotlib import cm\n",
        "import os"
      ]
    },
    {
      "cell_type": "code",
      "source": [
        "class selfAdaptiveActivation(nn.Module):\n",
        "  def __init__(self, activation_type=\"tanh\"):\n",
        "    super().__init__()\n",
        "    self.activation_type = activation_type.lower()\n",
        "\n",
        "    #learnable slope parameter\n",
        "    self.alpha = nn.Parameter(torch.tensor(1.0))\n",
        "\n",
        "    if self.activation_type not in [\"tanh\", \"swish\"]:\n",
        "      raise ValueError(f\"Unsupported activation type: {activation_type}\")\n",
        "\n",
        "  def forward(self, x):\n",
        "    scaled_x = x* self.alpha\n",
        "    if self.activation_type == \"tanh\":\n",
        "      return torch.tanh(scaled_x)\n",
        "    elif self.activation_type == \"swish\":\n",
        "      return scaled_x * torch.sigmoid(scaled_x)"
      ],
      "metadata": {
        "id": "mMUhNhSLQIVe"
      },
      "execution_count": 2,
      "outputs": []
    },
    {
      "cell_type": "code",
      "source": [
        "class SA_PINN(nn.Module):\n",
        "  def __init__(self, layers, neurons, activation=\"tanh\"):\n",
        "    super(SA_PINN, self).__init__()\n",
        "\n",
        "    self.activation_type = activation.lower()\n",
        "    self.act_fn = selfAdaptiveActivation(self.activation_type)\n",
        "\n",
        "    net_layers = [nn.Linear(1, neurons)]\n",
        "\n",
        "    for _ in range(layers - 1):\n",
        "      net_layers.append(nn.Linear(neurons, neurons))\n",
        "      net_layers.append(selfAdaptiveActivation(self.activation_type))\n",
        "\n",
        "    net_layers.append(nn.Linear(neurons, 2))  # Two outputs: T_f, T_s\n",
        "    self.net = nn.Sequential(*net_layers)\n",
        "\n",
        "  def forward(self, x):\n",
        "        return self.net(x)"
      ],
      "metadata": {
        "id": "ym9PaeR2RSSK"
      },
      "execution_count": 3,
      "outputs": []
    },
    {
      "cell_type": "code",
      "source": [
        "# class PINN(nn.Module):\n",
        "#     def __init__(self, layers, neurons, activation='tanh'):\n",
        "#         super(PINN, self).__init__()\n",
        "\n",
        "#         # Map from string to actual nn.Module activation\n",
        "#         activation_map = {\n",
        "#             \"tanh\": nn.Tanh(),\n",
        "#             \"relu\": nn.ReLU(),\n",
        "#             \"sigmoid\": nn.Sigmoid(),\n",
        "#             \"swish\":nn.SiLU(),  # Swish ≈ SiLU in PyTorch\n",
        "#             \"gelu\": nn.GELU(),\n",
        "#             \"elu\": nn.ELU(),\n",
        "#         }\n",
        "\n",
        "#         if activation.lower() not in activation_map:\n",
        "#             raise ValueError(f\"Unsupported activation '{activation}'. Choose from: {list(activation_map.keys())}\")\n",
        "\n",
        "#         act_fn = activation_map[activation.lower()]\n",
        "#         net_layers = [nn.Linear(1, neurons)]\n",
        "#         for _ in range(layers - 1):\n",
        "#             net_layers.append(nn.Linear(neurons, neurons))\n",
        "#             net_layers.append(act_fn)\n",
        "\n",
        "#         net_layers.append(nn.Linear(neurons, 2))  # Two outputs: T_f, T_s\n",
        "#         self.net = nn.Sequential(*net_layers)\n",
        "\n",
        "#     def forward(self, x):\n",
        "#         return self.net(x)"
      ],
      "metadata": {
        "id": "q7ovHZdoZU4k"
      },
      "execution_count": null,
      "outputs": []
    },
    {
      "cell_type": "code",
      "source": [
        "def gradients(T, x, order=1):\n",
        "    if order == 1:\n",
        "        grad = torch.autograd.grad(\n",
        "            T, x,\n",
        "            grad_outputs=torch.ones_like(T),\n",
        "            create_graph=True,\n",
        "            retain_graph=True,\n",
        "            allow_unused=True  # Important for debugging\n",
        "        )[0]\n",
        "        if grad is None:\n",
        "            raise RuntimeError(\"First derivative returned None. Check if x has requires_grad=True and is used.\")\n",
        "        return grad\n",
        "\n",
        "    elif order == 2:\n",
        "        T_x = gradients(T, x, order=1)\n",
        "        if T_x is None:\n",
        "            raise RuntimeError(\"First derivative for second-order grad is None.\")\n",
        "        grad2 = torch.autograd.grad(\n",
        "            T_x, x,\n",
        "            grad_outputs=torch.ones_like(T_x),\n",
        "            create_graph=True,\n",
        "            retain_graph=True,\n",
        "            allow_unused=True,\n",
        "            order=1\n",
        "        )[0]\n",
        "        if grad2 is None:\n",
        "            raise RuntimeError(\"Second derivative returned None.\")\n",
        "        return grad2\n"
      ],
      "metadata": {
        "id": "M5bVZIpGZ-rx"
      },
      "execution_count": 4,
      "outputs": []
    },
    {
      "cell_type": "code",
      "source": [
        "def chebyshev_points(n):\n",
        "    i = torch.arange(n).float()\n",
        "    x = 0.5 * (1 - torch.cos((np.pi * i) / (n - 1)))\n",
        "    return x.view(-1, 1)"
      ],
      "metadata": {
        "id": "INwu2UNCgTRr"
      },
      "execution_count": 5,
      "outputs": []
    },
    {
      "cell_type": "code",
      "source": [
        "def get_collocation_points(n_domain=300, n_bc=100):\n",
        "    x_domain = chebyshev_points(n_domain) #more points near boundary area\n",
        "    x_bc_left = torch.zeros(n_bc, 1)\n",
        "    x_bc_right = torch.ones(n_bc, 1)\n",
        "\n",
        "    x_domain.requires_grad_()\n",
        "    x_bc_left.requires_grad_()\n",
        "    x_bc_right.requires_grad_()\n",
        "\n",
        "    return x_domain, x_bc_left, x_bc_right"
      ],
      "metadata": {
        "id": "hhnEM0FEmFjh"
      },
      "execution_count": 6,
      "outputs": []
    },
    {
      "cell_type": "code",
      "source": [
        "def residual_loss(x_domain:torch.Tensor, model, config:dict):\n",
        "  # Ensure x_domain requires gradients for differentiation\n",
        "  x_domain.requires_grad_()\n",
        "  output = model(x_domain)\n",
        "  T_f = output[:, 0:1]\n",
        "  T_s = output[:, 1:2]\n",
        "\n",
        "  T_f_n = gradients(T_f, x_domain, order=1)\n",
        "  T_f_nn = gradients(T_f_n, x_domain, order=1) # Calculate second derivative from the first derivative\n",
        "  T_s_n = gradients(T_s, x_domain, order=1)\n",
        "  T_s_nn = gradients(T_s_n, x_domain, order=1) # Calculate second derivative from the first derivative\n",
        "\n",
        "  # Dynamic parameter handling\n",
        "  def get_param(name):\n",
        "        val = config[\"physics\"][name]\n",
        "        if name in config[\"physics\"][\"varying_params\"]:\n",
        "            if callable(val):\n",
        "                return val(x_domain)\n",
        "            elif isinstance(val, (list, np.ndarray)):\n",
        "                return val\n",
        "        return val\n",
        "\n",
        "  eps = get_param('eps')\n",
        "  k = get_param('k')\n",
        "  delta = get_param('delta')\n",
        "  beta = get_param('beta')\n",
        "  Bi = get_param('Bi')\n",
        "\n",
        "  eqn1 = (eps * k * (1 + delta * T_f) * T_f_nn +\n",
        "            eps * k * delta * (T_f_n**2) +\n",
        "            Bi * (T_s - T_f) - 1 - beta)\n",
        "\n",
        "  eqn2 = ((1 - eps) * (1 + delta * T_s) * T_s_nn +\n",
        "            (1 - eps) * delta * (T_s_n**2) -\n",
        "            Bi * (T_s - T_f) + beta)\n",
        "\n",
        "  loss_eqn = torch.mean(eqn1**2) + torch.mean(eqn2**2)\n",
        "  return loss_eqn"
      ],
      "metadata": {
        "id": "PctblbULawa-"
      },
      "execution_count": 7,
      "outputs": []
    },
    {
      "cell_type": "code",
      "source": [
        "def boundary_loss(model, x_left, x_right):\n",
        "    # Ensure boundary points require gradients\n",
        "    x_left.requires_grad_(True)\n",
        "    x_right.requires_grad_(True)\n",
        "\n",
        "    out_left = model(x_left)\n",
        "    out_right = model(x_right)\n",
        "\n",
        "    T_f_right = out_right[:, 0:1]\n",
        "    T_s_right = out_right[:, 1:2]\n",
        "\n",
        "    T_f_n_left = gradients(out_left[:, 0:1], x_left)\n",
        "    T_s_n_left = gradients(out_left[:, 1:2], x_left)\n",
        "\n",
        "    loss_bc = (\n",
        "        torch.mean((T_f_right - 0)**2) +\n",
        "        torch.mean((T_s_right - 0)**2) +\n",
        "        torch.mean((T_f_n_left - 0)**2) +\n",
        "        torch.mean((T_s_n_left - 0)**2)\n",
        "    )\n",
        "    return loss_bc"
      ],
      "metadata": {
        "id": "p3F5crkNbtqE"
      },
      "execution_count": 8,
      "outputs": []
    },
    {
      "cell_type": "code",
      "source": [
        "def relation_dict(x:np.ndarray) -> dict:\n",
        "  RELATIONS = {\n",
        "      \"relation_2_a\" : {\n",
        "            \"network\": { \"neurons\":256, \"layers\":3},  # Same as before\n",
        "            \"training\": {\"activation\":\"tanh\", \"lr\":0.001,\n",
        "                         \"lose_weights\": [1,100],\n",
        "                         \"epochs1\":4000, \"display_every\":1000, \"epochs2\":6000 },\n",
        "            \"physics\": {\n",
        "                \"eps\": 0.6,\n",
        "                \"k\": 25,\n",
        "                \"delta\": -0.2,\n",
        "                \"beta\": 10,\n",
        "                \"Bi\": [ lambda x: 50.0 * (1 - x**2)],\n",
        "                \"varying_params\": [\"Bi\"]  # Specify which params vary\n",
        "            },\n",
        "      },\n",
        "      \"relation_2_b\" : {\n",
        "            \"network\": { \"neurons\":256, \"layers\":3},  # Same as before\n",
        "            \"training\": {\"activation\":\"swish\", \"lr\":0.001,\n",
        "                         \"lose_weights\": [1, 100],\n",
        "                         \"epochs1\":4000, \"display_every\":1000, \"epochs2\":6000  },\n",
        "            \"physics\": {\n",
        "                \"eps\": 0.6,\n",
        "                \"k\": 25,\n",
        "                \"delta\": -0.2,\n",
        "                \"beta\": 10,\n",
        "                \"Bi\": [ lambda x: 50.0 * (1+ x**2)],\n",
        "                \"varying_params\": [\"Bi\"]  # Specify which params vary\n",
        "            },\n",
        "      }\n",
        "  }\n",
        "  return RELATIONS"
      ],
      "metadata": {
        "id": "dVF8P-oVcS10"
      },
      "execution_count": 22,
      "outputs": []
    },
    {
      "cell_type": "code",
      "source": [
        "class EarlyStopping:\n",
        "    def __init__(self, patience=1000, min_delta=1e-6):\n",
        "        self.patience = patience\n",
        "        self.min_delta = min_delta\n",
        "        self.best_loss = float(\"inf\")\n",
        "        self.counter = 0\n",
        "        self.should_stop = False\n",
        "\n",
        "    def __call__(self, current_loss):\n",
        "        if current_loss < self.best_loss - self.min_delta:\n",
        "            self.best_loss = current_loss\n",
        "            self.counter = 0\n",
        "        else:\n",
        "            self.counter += 1\n",
        "            if self.counter >= self.patience:\n",
        "                self.should_stop = True\n"
      ],
      "metadata": {
        "id": "-B3tyu-7lv9E"
      },
      "execution_count": 10,
      "outputs": []
    },
    {
      "cell_type": "code",
      "source": [
        "def resample_points_by_residual(model, config, total_domain=300, top_k=100):\n",
        "    x_fine = chebyshev_points(total_domain)\n",
        "    x_fine.requires_grad_()\n",
        "    residual1 = residual_loss(x_fine, model, config).detach().cpu().numpy().flatten()\n",
        "    residual2 = boundary_loss(model, x_fine[:50], x_fine[-50:]).detach().cpu().numpy().flatten()\n",
        "    residuals = residual1 + residual2\n",
        "\n",
        "    top_indices = np.argsort(residuals)[-top_k:]\n",
        "    x_high_residual = x_fine[top_indices]\n",
        "    x_random = x_fine[np.random.choice(len(x_fine), total_domain - top_k, replace=False)]\n",
        "\n",
        "    x_new = torch.cat([x_high_residual, x_random], dim=0)\n",
        "    x_new.requires_grad_()\n",
        "    return x_new\n"
      ],
      "metadata": {
        "id": "7S_G4Ct2nFiJ"
      },
      "execution_count": 11,
      "outputs": []
    },
    {
      "cell_type": "code",
      "source": [
        "def train_pinn(config:dict, pre_trainied_path:str = None):\n",
        "  #create the model\n",
        "  model = SA_PINN(config[\"network\"][\"layers\"], config[\"network\"][\"neurons\"], activation=config[\"training\"][\"activation\"])\n",
        "\n",
        "  #loading the weights\n",
        "  if pre_trainied_path is not None:\n",
        "    print(f\"Loading pretrained weights from {pre_trainied_path}\")\n",
        "    model.load_state_dict(torch.load(pre_trainied_path))\n",
        "\n",
        "  #setup optimizers and configs\n",
        "  adam = torch.optim.Adam(model.parameters(), lr=config[\"training\"][\"lr\"])\n",
        "  scheduler = torch.optim.lr_scheduler.ReduceLROnPlateau(adam, 'min', factor=0.5, patience=200)\n",
        "  w_pde, w_bc = config[\"training\"][\"lose_weights\"]\n",
        "  # early_stopper = EarlyStopping(patience=2000, min_delta=1e-5)\n",
        "\n",
        "  x_domain, x_bc_left, x_bc_right = get_collocation_points()\n",
        "\n",
        "  for epoch in range(config[\"training\"][\"epochs1\"]):\n",
        "    adam.zero_grad()\n",
        "\n",
        "    loss_pde = residual_loss(x_domain, model, config)\n",
        "    loss_bc = boundary_loss(model, x_bc_left, x_bc_right)\n",
        "    loss = w_pde*loss_pde + w_bc*loss_bc\n",
        "\n",
        "    loss.backward(retain_graph=True)\n",
        "    adam.step()\n",
        "    scheduler.step(loss)\n",
        "\n",
        "    if epoch % config[\"training\"][\"display_every\"] == 0 and epoch>0:\n",
        "        print(f\"Epoch {epoch}: Loss = {loss.item():.5e}  (PDE: {loss_pde.item():.2e}, BC: {loss_bc.item():.2e})\")\n",
        "        x_domain = resample_points_by_residual(model, config)\n",
        "\n",
        "    # early_stopper(loss.item())\n",
        "    # if early_stopper.should_stop:\n",
        "    #         print(f\"Early stopping at epoch {epoch}\")\n",
        "    #         break\n",
        "\n",
        "  print(\"Starting L-BFGS refinement...\")\n",
        "  lbfgs = torch.optim.LBFGS(model.parameters(), max_iter=500)\n",
        "\n",
        "  def closure():\n",
        "        lbfgs.zero_grad()\n",
        "        loss_pde = residual_loss(x_domain, model, config)\n",
        "        loss_bc = boundary_loss(model, x_bc_left, x_bc_right)\n",
        "        loss = w_pde * loss_pde + w_bc * loss_bc\n",
        "        loss.backward(retain_graph=True)\n",
        "        return loss\n",
        "\n",
        "  lbfgs.step(closure)\n",
        "\n",
        "  print(\"L-BFGS refinement complete.\")\n",
        "\n",
        "  print(\"Starting Adam refinement...\")\n",
        "  early_stopper2 = EarlyStopping(patience=3000, min_delta=1e-5)\n",
        "  adam2 = torch.optim.AdamW(model.parameters(), lr=config[\"training\"][\"lr\"])\n",
        "  scheduler2 = torch.optim.lr_scheduler.ReduceLROnPlateau(adam2, 'min', factor=0.5, patience=200)\n",
        "\n",
        "  for epoch in range(config[\"training\"][\"epochs2\"]):\n",
        "    adam2.zero_grad()\n",
        "    loss_pde2 = residual_loss(x_domain, model, config)\n",
        "    loss_bc2 = boundary_loss(model, x_bc_left, x_bc_right)\n",
        "    loss2 = w_pde * loss_pde2 + w_bc * loss_bc2\n",
        "\n",
        "    loss2.backward(retain_graph=True)\n",
        "    adam2.step()\n",
        "    scheduler2.step(loss2)\n",
        "\n",
        "    if epoch % config[\"training\"][\"display_every\"] == 0 and epoch>0:\n",
        "        print(f\"Epoch {epoch}: Loss = {loss2.item():.5e}  (PDE: {loss_pde2.item():.2e}, BC: {loss_bc2.item():.2e})\")\n",
        "\n",
        "    early_stopper2(loss2.item())\n",
        "    if early_stopper2.should_stop:\n",
        "            print(f\"Early stopping at epoch {epoch}\")\n",
        "            break\n",
        "\n",
        "  print(\"Adamw completed\")\n",
        "\n",
        "  return model"
      ],
      "metadata": {
        "id": "wnGVDnVxF95V"
      },
      "execution_count": 12,
      "outputs": []
    },
    {
      "cell_type": "code",
      "source": [
        "def predict_temperatures(model, x_test)->dict:\n",
        "  model.eval()\n",
        "  with torch.no_grad():\n",
        "    T_pred = model(x_test)\n",
        "  return T_pred"
      ],
      "metadata": {
        "id": "HVP8ZUEXpO67"
      },
      "execution_count": 13,
      "outputs": []
    },
    {
      "cell_type": "code",
      "source": [
        "def run_relation_rel1(n: np.ndarray) -> dict:\n",
        "    \"\"\"Handles any relation from the config without deepcopy issues\"\"\"\n",
        "    config = relation_dict(n)[\"relation_2_a\"]\n",
        "    results_predict = {}\n",
        "    # Prepare parameter combinations for other relations\n",
        "    varying_params = config[\"physics\"][\"varying_params\"]\n",
        "    param_values = [\n",
        "        config[\"physics\"][p] if isinstance(config[\"physics\"][p], (list, np.ndarray)) else [config[\"physics\"][p]]\n",
        "         for p in varying_params\n",
        "      ]\n",
        "\n",
        "    for combo in product(*param_values):\n",
        "        param_str = \"_\".join(f\"{p}={v}\" for p,v in zip(varying_params, combo))\n",
        "        print(f\"\\nTraining relation_2_a with {param_str}\") #help to track which combo is being trained\n",
        "        #we make a new config for every combo\n",
        "        current_physics = config[\"physics\"].copy()\n",
        "\n",
        "        for p, v in zip(varying_params, combo):\n",
        "             current_physics[p] = v\n",
        "             current_config = {\n",
        "                \"network\": config[\"network\"],\n",
        "                \"training\": config[\"training\"],\n",
        "                \"physics\": current_physics\n",
        "              }\n",
        "             model = train_pinn(current_config)\n",
        "\n",
        "             torch.save(model.state_dict(), \"base_bi_model.pth\")\n",
        "\n",
        "             T_pred = predict_temperatures(model, n)\n",
        "             results_predict[param_str] = {\n",
        "                \"x\": torch.flatten(n),\n",
        "                \"T_f\": T_pred[:, 0:1],\n",
        "                \"T_s\": T_pred[:, 1:2],\n",
        "                \"params\": dict(zip(varying_params, combo))\n",
        "                }\n",
        "\n",
        "    return results_predict"
      ],
      "metadata": {
        "id": "hhyNcWwndnqJ"
      },
      "execution_count": 20,
      "outputs": []
    },
    {
      "cell_type": "code",
      "source": [
        "def run_relation_rel2( n: np.ndarray) -> dict:\n",
        "    \"\"\"Handles any relation from the config without deepcopy issues\"\"\"\n",
        "    config = relation_dict(n)[\"relation_2_b\"]\n",
        "    results_predict = {}\n",
        "    # Prepare parameter combinations for other relations\n",
        "    varying_params = config[\"physics\"][\"varying_params\"]\n",
        "    param_values = [\n",
        "        config[\"physics\"][p] if isinstance(config[\"physics\"][p], (list, np.ndarray)) else [config[\"physics\"][p]]\n",
        "         for p in varying_params\n",
        "      ]\n",
        "\n",
        "    for combo in product(*param_values):\n",
        "        param_str = \"_\".join(f\"{p}={v}\" for p,v in zip(varying_params, combo))\n",
        "        print(f\"\\nTraining relation_2_b with {param_str}\") #help to track which combo is being trained\n",
        "        #we make a new config for every combo\n",
        "        current_physics = config[\"physics\"].copy()\n",
        "\n",
        "        for p, v in zip(varying_params, combo):\n",
        "             current_physics[p] = v\n",
        "             current_config = {\n",
        "                \"network\": config[\"network\"],\n",
        "                \"training\": config[\"training\"],\n",
        "                \"physics\": current_physics\n",
        "              }\n",
        "             model = train_pinn(current_config, pre_trainied_path=\"base_bi_model.pth\")\n",
        "\n",
        "             T_pred = predict_temperatures(model, n)\n",
        "             results_predict[param_str] = {\n",
        "                \"x\": torch.flatten(n),\n",
        "                \"T_f\": T_pred[:, 0:1],\n",
        "                \"T_s\": T_pred[:, 1:2],\n",
        "                \"params\": dict(zip(varying_params, combo))\n",
        "                }\n",
        "\n",
        "    return results_predict"
      ],
      "metadata": {
        "id": "KSB8FS6zmw-Q"
      },
      "execution_count": 15,
      "outputs": []
    },
    {
      "cell_type": "code",
      "source": [
        "def ensure_dir(path):\n",
        "    if not os.path.exists(path):\n",
        "        os.makedirs(path)"
      ],
      "metadata": {
        "id": "3XcbdmFumEQo"
      },
      "execution_count": 16,
      "outputs": []
    },
    {
      "cell_type": "code",
      "source": [
        "from collections import defaultdict\n",
        "def plot_grouped_by_Bi(results, title_prefix=\"PINN Prediction Grouped by Bi\", save_dir=\"Result01\"):\n",
        "    ensure_dir(save_dir)\n",
        "    \"\"\"\n",
        "    For each unique Bi (from result key), plot all (Tf, Ts) curves for that Bi in one figure.\n",
        "    \"\"\"\n",
        "    grouped = defaultdict(dict)\n",
        "    for key, res in results.items():\n",
        "        # Parse key like \"Bi=<func>_delta=0.4\"\n",
        "        bi_key = [kv for kv in key.split('_') if kv.startswith(\"Bi=\")][0]\n",
        "        grouped[bi_key][key] = res\n",
        "\n",
        "    # Step 2: Plot each Bi group in its own figure\n",
        "    for bi_label, group in grouped.items():\n",
        "        plt.figure(figsize=(10, 6))\n",
        "        colors = plt.cm.tab10.colors\n",
        "\n",
        "        for i, (label, res) in enumerate(group.items()):\n",
        "            x = res[\"x\"]\n",
        "            T_f = res[\"T_f\"].flatten()\n",
        "            T_s = res[\"T_s\"].flatten()\n",
        "            color = colors[i % len(colors)]\n",
        "\n",
        "            plt.plot(x, T_s, color=color, linestyle='-')\n",
        "            plt.plot(x, T_f, color=color, linestyle='--')\n",
        "\n",
        "        plt.xlabel(\"x\")\n",
        "        plt.ylabel(\"Temperature\")\n",
        "        plt.title(f\"{title_prefix}: {bi_label}\")\n",
        "        plt.legend(fontsize=\"small\")\n",
        "        plt.grid(True)\n",
        "        plt.tight_layout()\n",
        "        plt.show()\n",
        "\n",
        "        #save\n",
        "        fig_path = os.path.join(save_dir, f\"01_{bi_label}.png\")\n",
        "        plt.savefig(fig_path)\n",
        "        plt.close()\n"
      ],
      "metadata": {
        "id": "Lp3KTnFEqzPA"
      },
      "execution_count": 17,
      "outputs": []
    },
    {
      "cell_type": "code",
      "source": [
        "n = chebyshev_points(150)\n",
        "all_results = {}\n",
        "\n",
        "all_results[\"relation_2_a\"] = run_relation_rel1(n)\n",
        "plot_grouped_by_Bi(all_results[\"relation_2_a\"], \"relation_2_a\")\n",
        "\n",
        "all_results[\"relation_2_b\"] = run_relation_rel2(n)\n",
        "plot_grouped_by_Bi(all_results[\"relation_2_b\"], \"relation_2_b\")"
      ],
      "metadata": {
        "colab": {
          "base_uri": "https://localhost:8080/",
          "height": 1000
        },
        "id": "GNQoLsxOrvpU",
        "outputId": "fb02dad9-7acd-4b11-d6cc-2e7df37848e7"
      },
      "execution_count": 23,
      "outputs": [
        {
          "output_type": "stream",
          "name": "stdout",
          "text": [
            "\n",
            "Training relation_2_a with Bi=<function relation_dict.<locals>.<lambda> at 0x7de4aa399080>\n",
            "Epoch 1000: Loss = 6.15493e-02  (PDE: 6.04e-02, BC: 1.14e-05)\n",
            "Epoch 2000: Loss = 3.41448e-02  (PDE: 3.36e-02, BC: 5.27e-06)\n",
            "Epoch 3000: Loss = 1.96823e-02  (PDE: 1.95e-02, BC: 1.97e-06)\n",
            "Starting L-BFGS refinement...\n",
            "L-BFGS refinement complete.\n",
            "Starting Adam refinement...\n",
            "Epoch 1000: Loss = 4.63014e-02  (PDE: 4.54e-02, BC: 9.42e-06)\n",
            "Epoch 2000: Loss = 4.23315e-02  (PDE: 4.15e-02, BC: 8.07e-06)\n",
            "Epoch 3000: Loss = 4.21460e-02  (PDE: 4.13e-02, BC: 8.08e-06)\n",
            "Early stopping at epoch 3000\n",
            "Adamw completed\n"
          ]
        },
        {
          "output_type": "stream",
          "name": "stderr",
          "text": [
            "/tmp/ipython-input-17-388220541.py:30: UserWarning: No artists with labels found to put in legend.  Note that artists whose label start with an underscore are ignored when legend() is called with no argument.\n",
            "  plt.legend(fontsize=\"small\")\n"
          ]
        },
        {
          "output_type": "display_data",
          "data": {
            "text/plain": [
              "<Figure size 1000x600 with 1 Axes>"
            ],
            "image/png": "[encoded data removed]"
          },
          "metadata": {}
        },
        {
          "output_type": "stream",
          "name": "stdout",
          "text": [
            "\n",
            "Training relation_2_b with Bi=<function relation_dict.<locals>.<lambda> at 0x7de4aa3e2ca0>\n",
            "Loading pretrained weights from base_bi_model.pth\n",
            "Epoch 1000: Loss = 3.73854e-01  (PDE: 5.39e-02, BC: 3.20e-03)\n",
            "Epoch 2000: Loss = 2.79600e-01  (PDE: 8.04e-02, BC: 1.99e-03)\n",
            "Epoch 3000: Loss = 1.19950e-01  (PDE: 6.40e-02, BC: 5.60e-04)\n",
            "Starting L-BFGS refinement...\n",
            "L-BFGS refinement complete.\n",
            "Starting Adam refinement...\n",
            "Epoch 1000: Loss = 4.92612e-03  (PDE: 4.73e-03, BC: 1.97e-06)\n",
            "Epoch 2000: Loss = 4.57114e-03  (PDE: 4.44e-03, BC: 1.33e-06)\n",
            "Epoch 3000: Loss = 4.55560e-03  (PDE: 4.43e-03, BC: 1.30e-06)\n",
            "Early stopping at epoch 3000\n",
            "Adamw completed\n"
          ]
        },
        {
          "output_type": "stream",
          "name": "stderr",
          "text": [
            "/tmp/ipython-input-17-388220541.py:30: UserWarning: No artists with labels found to put in legend.  Note that artists whose label start with an underscore are ignored when legend() is called with no argument.\n",
            "  plt.legend(fontsize=\"small\")\n"
          ]
        },
        {
          "output_type": "display_data",
          "data": {
            "text/plain": [
              "<Figure size 1000x600 with 1 Axes>"
            ],
            "image/png": "[encoded data removed]"
          },
          "metadata": {}
        }
      ]
    }
  ]
}